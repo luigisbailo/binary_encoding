{
 "cells": [
  {
   "cell_type": "markdown",
   "id": "450163ca-0a23-41ac-882c-44dd5394abe1",
   "metadata": {},
   "source": [
    "# Emergence of Latent Binary Encoding in Deep Neural Network Classifiers\n",
    "---"
   ]
  },
  {
   "cell_type": "markdown",
   "id": "938191b1-f2c1-4927-8881-8bb5431f7f76",
   "metadata": {
    "tags": []
   },
   "source": [
    "### Supplementary material to reproduce results"
   ]
  },
  {
   "cell_type": "markdown",
   "id": "5affe677-277b-46ca-a29c-35ca1ff1dd93",
   "metadata": {},
   "source": [
    "All plots shown in the manuscript can be made using this notebook. Results are loaded from two 'best_results.pkl' files which contain data relative to the CIFAR10 and CIFAR100 dataset, correspondingly. \n",
    "Each experiment consists of running multiple trainings for different learning rates, and the training which has the best accuracy on the training set at the last epoch is picked. Experiments can be run on a GPU cluster using a Slurm script that we provide in 'emergence_binary_encoding/scripts.sh'. Best results for each experiment can then be selected using the Python script that we provide in 'emergence_binary_encoding/find_best_results.py'"
   ]
  },
  {
   "cell_type": "code",
   "execution_count": null,
   "id": "651af36b",
   "metadata": {
    "tags": []
   },
   "outputs": [],
   "source": [
    "import torchvision\n",
    "import torch\n",
    "import matplotlib.pyplot as plt\n",
    "import numpy as np\n",
    "from scipy.stats import multivariate_normal\n",
    "import pickle\n",
    "from sklearn.mixture import GaussianMixture\n",
    "from scipy.stats import norm\n",
    "import scipy\n",
    "import torch\n",
    "import torch.nn as nn\n",
    "from scipy.spatial import distance\n",
    "import seaborn as sns\n",
    "import yaml\n",
    "import glob\n",
    "import os\n",
    "import matplotlib\n",
    "from sklearn.preprocessing import StandardScaler\n",
    "from sklearn.mixture import GaussianMixture\n"
   ]
  },
  {
   "cell_type": "code",
   "execution_count": null,
   "id": "06f30cb4-e654-486e-8290-984c5dd6e066",
   "metadata": {
    "tags": []
   },
   "outputs": [],
   "source": [
    "dataset_dir = '../results'\n",
    "with open(dataset_dir + '/cifar10/best_results.pkl', 'rb') as file:\n",
    "    results_10 = pickle.load(file)\n",
    "\n",
    "dataset_dir = '../results'\n",
    "with open(dataset_dir + '/cifar100/best_results.pkl', 'rb') as file:\n",
    "    results_100 = pickle.load(file)"
   ]
  },
  {
   "cell_type": "code",
   "execution_count": null,
   "id": "4d1a386c-cbab-40d2-b942-30d87ab785bb",
   "metadata": {
    "tags": []
   },
   "outputs": [],
   "source": [
    "epochs = results_100['bin_enc']['training_hypers']['epochs'][0]\n",
    "logging = results_100['bin_enc']['training_hypers']['logging'][0]"
   ]
  },
  {
   "cell_type": "code",
   "execution_count": null,
   "id": "818a1883-16d9-43e6-bc2a-897609abf7c2",
   "metadata": {
    "tags": []
   },
   "outputs": [],
   "source": [
    "sns.set(style=\"whitegrid\")\n",
    "alpha=0.3"
   ]
  },
  {
   "cell_type": "code",
   "execution_count": null,
   "id": "fd011b27-7448-4fc1-82ca-47d71a1ef81c",
   "metadata": {
    "tags": []
   },
   "outputs": [],
   "source": [
    "color_bin = '#1f77b4'\n",
    "color_lin = '#2ca02c'\n",
    "color_no = '#ff7f0e'\n",
    "color_nonlin = '#d62728'"
   ]
  },
  {
   "cell_type": "markdown",
   "id": "4d01ee22-0467-4945-8de8-c8656490da62",
   "metadata": {},
   "source": [
    "### Figure 1"
   ]
  },
  {
   "cell_type": "code",
   "execution_count": null,
   "id": "362f7675-d061-462b-a913-23edd729dd03",
   "metadata": {
    "tags": []
   },
   "outputs": [],
   "source": [
    "fig, axes = plt.subplots(3, 2, figsize=(10, 8), sharex=True)\n",
    "\n",
    "color_0 = color_bin\n",
    "color_1 = color_lin\n",
    "\n",
    "label_size = 18\n",
    "legend_size = 12\n",
    "\n",
    "x = np.arange(logging, epochs+logging,logging)\n",
    "\n",
    "y = np.mean(results_10['bin_enc']['binarity_train']['score'], axis=1)\n",
    "std = np.std(results_10['bin_enc']['binarity_train']['score'], axis=1)\n",
    "sns.lineplot(x=x, y=y, marker='o', ax=axes[0][0], color=color_0, label='BinEnc')\n",
    "axes[0][0].fill_between(x, y - std, y + std, alpha=alpha, color=color_0)\n",
    "\n",
    "y = np.mean(results_10['lin_pen']['binarity_train']['score'], axis=1)\n",
    "std = np.std(results_10['lin_pen']['binarity_train']['score'], axis=1)\n",
    "sns.lineplot(x=x, y=y, marker='o', ax=axes[0][0], color=color_1, label='LinPen')\n",
    "axes[0][0].fill_between(x, y - std, y + std, alpha=alpha, color=color_1)\n",
    "\n",
    "y = np.mean(results_10['bin_enc']['binarity_train']['stds'], axis=1)\n",
    "std = np.std(results_10['bin_enc']['binarity_train']['stds'], axis=1)\n",
    "sns.lineplot(x=x, y=y, marker='o', ax=axes[1][0], color=color_0)\n",
    "axes[1][0].fill_between(x, y - std, y + std, alpha=alpha, color=color_0)\n",
    "\n",
    "y = np.mean(results_10['lin_pen']['binarity_train']['stds'], axis=1)\n",
    "std = np.std(results_10['lin_pen']['binarity_train']['stds'], axis=1)\n",
    "sns.lineplot(x=x, y=y, marker='o', ax=axes[1][0], color=color_1)\n",
    "axes[1][0].fill_between(x, y - std, y + std, alpha=alpha, color=color_1)\n",
    "\n",
    "\n",
    "y = np.mean(results_10['bin_enc']['binarity_train']['peaks_distance_mean'], axis=1)\n",
    "std = np.std(results_10['bin_enc']['binarity_train']['peaks_distance_mean'], axis=1)\n",
    "sns.lineplot(x=x, y=y, marker='o', ax=axes[2][0], color=color_0)\n",
    "axes[2][0].fill_between(x, y - std, y + std, alpha=alpha, color=color_0)\n",
    "\n",
    "y = np.mean(results_10['lin_pen']['binarity_train']['peaks_distance_mean'], axis=1)\n",
    "std = np.std(results_10['lin_pen']['binarity_train']['peaks_distance_mean'], axis=1)\n",
    "sns.lineplot(x=x, y=y, marker='o', ax=axes[2][0], color=color_1)\n",
    "axes[2][0].fill_between(x, y - std, y + std, alpha=alpha, color=color_1)\n",
    "\n",
    "\n",
    "x = np.arange(logging, epochs+logging,logging)\n",
    "\n",
    "y = np.mean(results_100['bin_enc']['binarity_train']['score'], axis=1)\n",
    "std = np.std(results_100['bin_enc']['binarity_train']['score'], axis=1)\n",
    "sns.lineplot(x=x, y=y, marker='o', ax=axes[0][1], color=color_0, label='BinEnc')\n",
    "axes[0][1].fill_between(x, y - std, y + std, alpha=alpha, color=color_0)\n",
    "\n",
    "y = np.mean(results_100['lin_pen']['binarity_train']['score'], axis=1)\n",
    "std = np.std(results_100['lin_pen']['binarity_train']['score'], axis=1)\n",
    "sns.lineplot(x=x, y=y, marker='o', ax=axes[0][1], color=color_1, label='LinPen')\n",
    "axes[0][1].fill_between(x, y - std, y + std, alpha=alpha, color=color_1)\n",
    "\n",
    "\n",
    "y = np.mean(results_100['bin_enc']['binarity_train']['stds'], axis=1)\n",
    "std = np.std(results_100['bin_enc']['binarity_train']['stds'], axis=1)\n",
    "sns.lineplot(x=x, y=y, marker='o', ax=axes[1][1], color=color_0)\n",
    "axes[1][1].fill_between(x, y - std, y + std, alpha=alpha, color=color_0)\n",
    "\n",
    "y = np.mean(results_100['lin_pen']['binarity_train']['stds'], axis=1)\n",
    "std = np.std(results_100['lin_pen']['binarity_train']['stds'], axis=1)\n",
    "sns.lineplot(x=x, y=y, marker='o', ax=axes[1][1], color=color_1)\n",
    "axes[1][1].fill_between(x, y - std, y + std, alpha=alpha, color=color_1)\n",
    "\n",
    "\n",
    "y = np.mean(results_100['bin_enc']['binarity_train']['peaks_distance_mean'], axis=1)\n",
    "std = np.std(results_100['bin_enc']['binarity_train']['peaks_distance_mean'], axis=1)\n",
    "sns.lineplot(x=x, y=y, marker='o', ax=axes[2][1], color=color_0)\n",
    "axes[2][1].fill_between(x, y - std, y + std, alpha=alpha, color=color_0)\n",
    "\n",
    "y = np.mean(results_100['lin_pen']['binarity_train']['peaks_distance_mean'], axis=1)\n",
    "std = np.std(results_100['lin_pen']['binarity_train']['peaks_distance_mean'], axis=1)\n",
    "sns.lineplot(x=x, y=y, marker='o', ax=axes[2][1], color=color_1)\n",
    "axes[2][1].fill_between(x, y - std, y + std, alpha=alpha, color=color_1)\n",
    "\n",
    "\n",
    "axes[0][0].set_title('CIFAR 10', size=label_size)\n",
    "axes[0][1].set_title('CIFAR 100', size=label_size)\n",
    "\n",
    "axes[2][0].set_xlabel('Epochs', size=label_size)\n",
    "axes[2][1].set_xlabel('Epochs', size=label_size)\n",
    "axes[0][0].set_ylabel('Score', size=label_size)\n",
    "axes[1][0].set_ylabel('Std', size=label_size)\n",
    "axes[2][0].set_ylabel('Peaks distance', size=label_size)\n",
    "\n",
    "axes[2][0].set_xticks(range(20, 201, 20))\n",
    "\n",
    "axes[0][0].legend(loc='upper left', fontsize=legend_size)\n",
    "axes[0][1].legend(loc='upper left', fontsize=legend_size)\n",
    "\n",
    "axes[0][1].set_ylim(-1.5,0)\n",
    "axes[0][0].sharey(axes[0][1])\n",
    "\n",
    "axes[1][1].set_ylim(0,1)\n",
    "axes[1][0].sharey(axes[1][1])\n",
    "\n",
    "\n",
    "axes[2][1].set_ylim(0,18)\n",
    "axes[2][0].sharey(axes[2][1])\n",
    "\n",
    "plt.tight_layout()\n",
    "plt.savefig('./score.png')"
   ]
  },
  {
   "cell_type": "markdown",
   "id": "2b6def03-e8d9-4bd9-af4a-5c7ca7fd7f3a",
   "metadata": {},
   "source": [
    "### Figure 2"
   ]
  },
  {
   "cell_type": "code",
   "execution_count": null,
   "id": "e205306f-edbc-4845-8178-8f50e4b17740",
   "metadata": {
    "tags": []
   },
   "outputs": [],
   "source": [
    "pen_10 = results_10['bin_enc']['penultimate_train'][:,0]\n",
    "gmm = GaussianMixture(n_components=2)\n",
    "scaler = StandardScaler()\n",
    "scaler.fit(pen_10.reshape(-1,1))\n",
    "pen_layer_scaled_10 = scaler.transform(pen_10.reshape(-1,1))\n",
    "gmm.fit(pen_layer_scaled_10)\n",
    "score= gmm.score(pen_layer_scaled_10)\n",
    "means = gmm.means_.flatten()\n",
    "std = np.mean(np.sqrt(gmm.covariances_).flatten())\n",
    "peaks = np.abs(means[0]-means[1])/np.mean(std)\n",
    "\n",
    "print('CIFAR 10')\n",
    "print('Score: ', score)\n",
    "print('Std: ', std)\n",
    "print('Peaks distance: ', peaks)"
   ]
  },
  {
   "cell_type": "code",
   "execution_count": null,
   "id": "98a9393b-9934-470b-80bc-7802bef58a07",
   "metadata": {
    "tags": []
   },
   "outputs": [],
   "source": [
    "pen_100 = results_100['bin_enc']['penultimate_train'][:,0]\n",
    "gmm = GaussianMixture(n_components=2)\n",
    "scaler = StandardScaler()\n",
    "scaler.fit(pen_100.reshape(-1,1))\n",
    "pen_layer_scaled_100 = scaler.transform(pen_100.reshape(-1,1))\n",
    "gmm.fit(pen_layer_scaled_100)\n",
    "score= gmm.score(pen_layer_scaled_100)\n",
    "means = gmm.means_.flatten()\n",
    "std = np.mean(np.sqrt(gmm.covariances_).flatten())\n",
    "peaks = np.abs(means[0]-means[1])/np.mean(std)\n",
    "\n",
    "print('CIFAR 100')\n",
    "print('Score: ', score)\n",
    "print('Std: ', std)\n",
    "print('Peaks distance: ', peaks)"
   ]
  },
  {
   "cell_type": "code",
   "execution_count": null,
   "id": "77f4195b-1173-4ddd-a265-5240320d8756",
   "metadata": {
    "tags": []
   },
   "outputs": [],
   "source": [
    "fig, axes = plt.subplots(1, 2, figsize=(10, 5))\n",
    "\n",
    "label_size = 18\n",
    "legend_size = 12\n",
    "\n",
    "axes[0].hist(pen_layer_scaled_10, bins=100);\n",
    "axes[1].hist(pen_layer_scaled_100, bins=100);\n",
    "\n",
    "axes[0].set_title('CIFAR 10', size=label_size)\n",
    "axes[1].set_title('CIFAR 100', size=label_size)\n",
    "axes[0].set_xlabel('z', size=label_size)\n",
    "axes[1].set_xlabel('z', size=label_size)\n",
    "\n",
    "plt.tight_layout()\n",
    "plt.savefig('bins.png')"
   ]
  },
  {
   "cell_type": "markdown",
   "id": "eb711870-428d-40e9-ab1b-cea38f479949",
   "metadata": {},
   "source": [
    "### Figure 3"
   ]
  },
  {
   "cell_type": "code",
   "execution_count": null,
   "id": "1ea58dec-c459-4fdf-868d-42373448b937",
   "metadata": {
    "tags": []
   },
   "outputs": [],
   "source": [
    "fig, axes = plt.subplots(1, 2, figsize=(10, 5.1),  sharey=True)\n",
    "\n",
    "label_size = 18\n",
    "legend_size = 12\n",
    "\n",
    "x = np.arange(logging, epochs+logging,logging)\n",
    "\n",
    "y = np.mean(results_10['bin_enc']['same_encoding_fraction_train'], axis=1)\n",
    "std = np.std(results_10['bin_enc']['same_encoding_fraction_train'], axis=1)\n",
    "sns.lineplot(x=x, y=y, marker='o',label='BinEnc', ax=axes[0], color=color_bin)\n",
    "axes[0].fill_between(x, y - std, y + std, alpha=alpha, color=color_bin)\n",
    "\n",
    "y = np.mean(results_10['lin_pen']['same_encoding_fraction_train'], axis=1)\n",
    "std = np.std(results_10['lin_pen']['same_encoding_fraction_train'], axis=1)\n",
    "sns.lineplot(x=x, y=y, marker='o',label='LinPen', color=color_lin, ax=axes[0])\n",
    "axes[0].fill_between(x, y - std, y + std, alpha=alpha, color=color_lin)\n",
    "\n",
    "y = np.mean(results_10['nonlin_pen']['same_encoding_fraction_train'], axis=1)\n",
    "std = np.std(results_10['nonlin_pen']['same_encoding_fraction_train'], axis=1)\n",
    "sns.lineplot(x=x, y=y, marker='o',label='NonlinPen', ax=axes[0], color=color_nonlin)\n",
    "axes[0].fill_between(x, y - std, y + std, alpha=alpha, color=color_nonlin)\n",
    "\n",
    "y = np.mean(results_10['no_pen']['same_encoding_fraction_train'], axis=1)\n",
    "std = np.std(results_10['no_pen']['same_encoding_fraction_train'], axis=1)\n",
    "sns.lineplot(x=x, y=y, marker='o',label='NoPen', ax=axes[0], color=color_no)\n",
    "axes[0].fill_between(x, y - std, y + std, alpha=alpha, color=color_no)\n",
    "\n",
    "\n",
    "x = np.arange(logging, epochs+logging,logging)\n",
    "\n",
    "y = np.mean(results_100['bin_enc']['same_encoding_fraction_train'], axis=1)\n",
    "std = np.std(results_100['bin_enc']['same_encoding_fraction_train'], axis=1)\n",
    "sns.lineplot(x=x, y=y, marker='o',label='BinEnc', ax=axes[1], color=color_bin)\n",
    "axes[1].fill_between(x, y - std, y + std, alpha=alpha, color=color_bin)\n",
    "\n",
    "y = np.mean(results_100['lin_pen']['same_encoding_fraction_train'], axis=1)\n",
    "std = np.std(results_100['lin_pen']['same_encoding_fraction_train'], axis=1)\n",
    "sns.lineplot(x=x, y=y, marker='o',label='LinPen', color=color_lin, ax=axes[1])\n",
    "axes[1].fill_between(x, y - std, y + std, alpha=alpha, color=color_lin)\n",
    "\n",
    "y = np.mean(results_100['nonlin_pen']['same_encoding_fraction_train'], axis=1)\n",
    "std = np.std(results_100['nonlin_pen']['same_encoding_fraction_train'], axis=1)\n",
    "sns.lineplot(x=x, y=y, marker='o',label='NonlinPen', ax=axes[1], color=color_nonlin)\n",
    "axes[1].fill_between(x, y - std, y + std, alpha=alpha, color=color_nonlin)\n",
    "\n",
    "y = np.mean(results_100['no_pen']['same_encoding_fraction_train'], axis=1)\n",
    "std = np.std(results_100['no_pen']['same_encoding_fraction_train'], axis=1)\n",
    "sns.lineplot(x=x, y=y, marker='o',label='NoPen', ax=axes[1], color=color_no)\n",
    "axes[1].fill_between(x, y - std, y + std, alpha=alpha, color=color_no)\n",
    "\n",
    "axes[0].set_title('CIFAR 10', size=label_size)\n",
    "axes[1].set_title('CIFAR 100', size=label_size)\n",
    "\n",
    "axes[0].set_xlabel('Epochs', size=label_size)\n",
    "axes[1].set_xlabel('Epochs', size=label_size)\n",
    "axes[0].set_ylabel('Fraction', size=label_size)\n",
    "\n",
    "axes[0].set_xticks(range(20, 201, 20))\n",
    "\n",
    "axes[1].get_legend().remove()\n",
    "\n",
    "plt.tight_layout()\n",
    "plt.savefig('./fraction.png')"
   ]
  },
  {
   "cell_type": "markdown",
   "id": "5c5eaf00-7bc7-437f-ac82-db4213df4056",
   "metadata": {},
   "source": [
    "### Figure 4"
   ]
  },
  {
   "cell_type": "code",
   "execution_count": null,
   "id": "9549cb02-2274-418c-acf4-f65c13789220",
   "metadata": {
    "tags": []
   },
   "outputs": [],
   "source": [
    "x = np.arange(logging, epochs+logging,logging)\n",
    "\n",
    "fig, axes = plt.subplots(3, 2, figsize=(10, 8), sharex=True)\n",
    "\n",
    "y = np.mean(results_10['lin_pen']['collapse_train']['sigma_w'], axis=1)\n",
    "std = np.std(results_10['lin_pen']['collapse_train']['sigma_w'], axis=1)\n",
    "sns.lineplot(x=x, y=y, marker='o',label='LinPen', ax=axes[0][0],color=color_lin)\n",
    "axes[0][0].fill_between(x, y - std, y + std, alpha=alpha,color=color_lin)\n",
    "\n",
    "y = np.mean(results_100['lin_pen']['collapse_train']['sigma_w'], axis=1)\n",
    "std = np.std(results_100['lin_pen']['collapse_train']['sigma_w'], axis=1)\n",
    "sns.lineplot(x=x, y=y, marker='o',label='LinPen', ax=axes[0][1],color=color_lin)\n",
    "axes[0][1].fill_between(x, y - std, y + std, alpha=alpha,color=color_lin)\n",
    "\n",
    "y = np.mean(results_10['nonlin_pen']['collapse_train']['sigma_w'], axis=1)\n",
    "std = np.std(results_10['nonlin_pen']['collapse_train']['sigma_w'], axis=1)\n",
    "sns.lineplot(x=x, y=y, marker='o',label='NonlinPen', ax=axes[0][0], color=color_nonlin)\n",
    "axes[0][0].fill_between(x, y - std, y + std, alpha=alpha, color=color_nonlin)\n",
    "\n",
    "y = np.mean(results_10['no_pen']['collapse_train']['sigma_w'], axis=1)\n",
    "std = np.std(results_10['no_pen']['collapse_train']['sigma_w'], axis=1)\n",
    "sns.lineplot(x=x, y=y, marker='o',label='NoPen', ax=axes[1][0], color=color_no)\n",
    "axes[1][0].fill_between(x, y - std, y + std, alpha=alpha, color=color_no)\n",
    "\n",
    "y = np.mean(results_100['no_pen']['collapse_train']['sigma_w'], axis=1)\n",
    "std = np.std(results_100['no_pen']['collapse_train']['sigma_w'], axis=1)\n",
    "sns.lineplot(x=x, y=y, marker='o',label='NoPen', ax=axes[1][1], color=color_no)\n",
    "axes[1][1].fill_between(x, y - std, y + std, alpha=alpha, color=color_no)\n",
    "\n",
    "y = np.mean(results_100['nonlin_pen']['collapse_train']['sigma_w'], axis=1)\n",
    "std = np.std(results_100['nonlin_pen']['collapse_train']['sigma_w'], axis=1)\n",
    "sns.lineplot(x=x, y=y, marker='o',label='NonlinPen', ax=axes[0][1], color=color_nonlin)\n",
    "axes[0][1].fill_between(x, y - std, y + std, alpha=alpha, color=color_nonlin)\n",
    "\n",
    "y = np.mean(results_10['bin_enc']['collapse_train']['sigma_w'], axis=1)\n",
    "std = np.std(results_10['bin_enc']['collapse_train']['sigma_w'], axis=1)\n",
    "sns.lineplot(x=x, y=y, marker='o',label='Binary ', ax=axes[2][0], color=color_bin)\n",
    "axes[2][0].fill_between(x, y - std, y + std, alpha=alpha, color=color_bin)\n",
    "\n",
    "y = np.mean(results_100['bin_enc']['collapse_train']['sigma_w'], axis=1)\n",
    "std = np.std(results_100['bin_enc']['collapse_train']['sigma_w'], axis=1)\n",
    "sns.lineplot(x=x, y=y, marker='o',label='Binary ', ax=axes[2][1], color=color_bin)\n",
    "axes[2][1].fill_between(x, y - std, y + std, alpha=alpha, color=color_bin)\n",
    "\n",
    "axes[0][0].set_title('CIFAR 10', size=label_size)\n",
    "axes[0][1].set_title('CIFAR 100', size=label_size)\n",
    "\n",
    "axes[2][0].set_yscale('log')\n",
    "axes[2][1].set_yscale('log')\n",
    "\n",
    "axes[1][0].set_ylabel('Within-class covariance', size=label_size)\n",
    "\n",
    "axes[2][0].set_xlabel('Epochs', size=label_size)\n",
    "axes[2][1].set_xlabel('Epochs', size=label_size)\n",
    "\n",
    "axes[2][0].set_xticks(range(20, 201, 20))\n",
    "axes[2][1].set_xticks(range(20, 201, 20))\n",
    "\n",
    "\n",
    "plt.savefig('./collapse.png')\n",
    "\n",
    "plt.tight_layout()\n"
   ]
  },
  {
   "cell_type": "markdown",
   "id": "f88fa5a5-1420-4d7c-acc1-99768f4d5cbe",
   "metadata": {},
   "source": [
    "### Figure 5"
   ]
  },
  {
   "cell_type": "code",
   "execution_count": null,
   "id": "12c75b1e-b829-4e25-b609-2b3a0f4a44dc",
   "metadata": {
    "tags": []
   },
   "outputs": [],
   "source": [
    "x = np.arange(logging, epochs+logging,logging)\n",
    "\n",
    "fig, axes = plt.subplots(2, 2, figsize=(10, 8), sharex=True)\n",
    "\n",
    "y = np.mean(results_10['bin_enc']['accuracy_train'], axis=1)\n",
    "std = np.std(results_10['bin_enc']['accuracy_train'], axis=1)\n",
    "sns.lineplot(x=x, y=y, marker='o',label='BinEnc', ax=axes[0][0], color=color_bin)\n",
    "axes[0][0].fill_between(x, y - std, y + std, alpha=alpha, color=color_bin)\n",
    "y = np.mean(results_10['lin_pen']['accuracy_train'], axis=1)\n",
    "std = np.std(results_10['lin_pen']['accuracy_train'], axis=1)\n",
    "sns.lineplot(x=x, y=y, marker='o',label='LinPen', color=color_lin, ax=axes[0][0])\n",
    "axes[0][0].fill_between(x, y - std, y + std,color=color_lin,  alpha=alpha)\n",
    "y = np.mean(results_10['nonlin_pen']['accuracy_train'], axis=1)\n",
    "std = np.std(results_10['nonlin_pen']['accuracy_train'], axis=1)\n",
    "sns.lineplot(x=x, y=y, marker='o',label='NonlinPen', ax=axes[0][0], color=color_nonlin)\n",
    "axes[0][0].fill_between(x, y - std, y + std, alpha=alpha, color=color_nonlin)\n",
    "y = np.mean(results_10['no_pen']['accuracy_train'], axis=1)\n",
    "std = np.std(results_10['no_pen']['accuracy_train'], axis=1)\n",
    "sns.lineplot(x=x, y=y, marker='o',label='NoPen', ax=axes[0][0], color=color_no)\n",
    "axes[0][0].fill_between(x, y - std, y + std, alpha=alpha, color=color_no)\n",
    "\n",
    "y = np.mean(results_10['bin_enc']['accuracy_test'], axis=1)\n",
    "std = np.std(results_10['bin_enc']['accuracy_test'], axis=1)\n",
    "sns.lineplot(x=x, y=y, marker='o',label='BinEnc', ax=axes[1][0], color=color_bin)\n",
    "axes[1][0].fill_between(x, y - std, y + std, alpha=alpha, color=color_bin)\n",
    "y = np.mean(results_10['lin_pen']['accuracy_test'], axis=1)\n",
    "std = np.std(results_10['lin_pen']['accuracy_test'], axis=1)\n",
    "sns.lineplot(x=x, y=y, marker='o',label='LinPen',color=color_lin,  ax=axes[1][0])\n",
    "axes[1][0].fill_between(x, y - std, y + std, color=color_lin, alpha=alpha)\n",
    "y = np.mean(results_10['nonlin_pen']['accuracy_test'], axis=1)\n",
    "std = np.std(results_10['nonlin_pen']['accuracy_test'], axis=1)\n",
    "sns.lineplot(x=x, y=y, marker='o',label='NonlinPen', ax=axes[1][0], color=color_nonlin)\n",
    "axes[1][0].fill_between(x, y - std, y + std, alpha=alpha, color=color_nonlin)\n",
    "y = np.mean(results_10['no_pen']['accuracy_test'], axis=1)\n",
    "std = np.std(results_10['no_pen']['accuracy_test'], axis=1)\n",
    "sns.lineplot(x=x, y=y, marker='o',label='NoPen', ax=axes[1][0], color=color_no)\n",
    "axes[1][0].fill_between(x, y - std, y + std, alpha=alpha, color=color_no)\n",
    "\n",
    "y = np.mean(results_100['bin_enc']['accuracy_train'], axis=1)\n",
    "std = np.std(results_100['bin_enc']['accuracy_train'], axis=1)\n",
    "sns.lineplot(x=x, y=y, marker='o',label='BinEnc', ax=axes[0][1], color=color_bin)\n",
    "axes[0][1].fill_between(x, y - std, y + std, alpha=alpha, color=color_bin)\n",
    "y = np.mean(results_100['lin_pen']['accuracy_train'], axis=1)\n",
    "std = np.std(results_100['lin_pen']['accuracy_train'], axis=1)\n",
    "sns.lineplot(x=x, y=y, marker='o',label='LinPen',color=color_lin, ax=axes[0][1])\n",
    "axes[0][1].fill_between(x, y - std, y + std,color=color_lin, alpha=alpha)\n",
    "y = np.mean(results_100['nonlin_pen']['accuracy_train'], axis=1)\n",
    "std = np.std(results_100['nonlin_pen']['accuracy_train'], axis=1)\n",
    "sns.lineplot(x=x, y=y, marker='o',label='NonlinPen', ax=axes[0][1], color=color_nonlin)\n",
    "axes[0][1].fill_between(x, y - std, y + std, alpha=alpha, color=color_nonlin)\n",
    "y = np.mean(results_100['no_pen']['accuracy_train'], axis=1)\n",
    "std = np.std(results_100['no_pen']['accuracy_train'], axis=1)\n",
    "sns.lineplot(x=x, y=y, marker='o',label='NoPen', ax=axes[0][1], color=color_no)\n",
    "axes[0][1].fill_between(x, y - std, y + std, alpha=alpha, color=color_no)\n",
    "\n",
    "y = np.mean(results_100['bin_enc']['accuracy_test'], axis=1)\n",
    "std = np.std(results_100['bin_enc']['accuracy_test'], axis=1)\n",
    "sns.lineplot(x=x, y=y, marker='o',label='BinEnc', ax=axes[1][1], color=color_bin)\n",
    "axes[1][1].fill_between(x, y - std, y + std, alpha=alpha, color=color_bin)\n",
    "y = np.mean(results_100['lin_pen']['accuracy_test'], axis=1)\n",
    "std = np.std(results_100['lin_pen']['accuracy_test'], axis=1)\n",
    "sns.lineplot(x=x, y=y, marker='o',label='LinPen', color=color_lin, ax=axes[1][1])\n",
    "axes[1][1].fill_between(x, y - std, y + std, color=color_lin, alpha=alpha)\n",
    "y = np.mean(results_100['nonlin_pen']['accuracy_test'], axis=1)\n",
    "std = np.std(results_100['nonlin_pen']['accuracy_test'], axis=1)\n",
    "sns.lineplot(x=x, y=y, marker='o',label='NonlinPen', ax=axes[1][1], color=color_nonlin)\n",
    "axes[1][1].fill_between(x, y - std, y + std, alpha=alpha, color=color_nonlin)\n",
    "y = np.mean(results_100['no_pen']['accuracy_test'], axis=1)\n",
    "std = np.std(results_100['no_pen']['accuracy_test'], axis=1)\n",
    "sns.lineplot(x=x, y=y, marker='o',label='NoPen', ax=axes[1][1], color=color_no)\n",
    "axes[1][1].fill_between(x, y - std, y + std, alpha=alpha, color=color_no)\n",
    "\n",
    "axes[0][0].set_title('CIFAR 10', size=label_size)\n",
    "axes[0][1].set_title('CIFAR 100', size=label_size)\n",
    "\n",
    "axes[1][0].set_xlabel('Epochs', size=label_size)\n",
    "axes[1][1].set_xlabel('Epochs', size=label_size)\n",
    "axes[0][0].set_ylabel('Accuracy train set', size=label_size)\n",
    "axes[1][0].set_ylabel('Accuracy test set', size=label_size)\n",
    "\n",
    "axes[1,0].get_legend().remove()\n",
    "axes[1,1].get_legend().remove()\n",
    "axes[0][0].set_xticks(range(20, 201, 20))\n",
    "axes[0][1].set_xticks(range(20, 201, 20))\n",
    "\n",
    "plt.savefig('./accuracy.png')\n",
    "\n",
    "plt.tight_layout()"
   ]
  },
  {
   "cell_type": "markdown",
   "id": "834dcf05-592f-45a9-a2e2-f092d67027a3",
   "metadata": {},
   "source": [
    "### Table 1"
   ]
  },
  {
   "cell_type": "code",
   "execution_count": null,
   "id": "12fced56-3031-4d81-ae88-8dddde052d06",
   "metadata": {},
   "outputs": [],
   "source": [
    "models = [ 'bin_enc',  'no_pen', 'lin_pen', 'nonlin_pen']\n",
    "print('CIFAR10')\n",
    "for model in models:\n",
    "    print(model)\n",
    "    print('test: ', np.mean(results_10[model]['accuracy_test'], axis=1)[-1], np.std(results_10[model]['accuracy_test'], axis=1)[-1])\n",
    "    print('train: ', np.mean(results_10[model]['accuracy_train'], axis=1)[-1], np.std(results_10[model]['accuracy_train'], axis=1)[-1])\n",
    "\n",
    "print('')\n",
    "print('CIFAR100')      \n",
    "for model in models:\n",
    "    print(model)\n",
    "    print('test: ', np.mean(results_100[model]['accuracy_test'], axis=1)[-1], np.std(results_100[model]['accuracy_test'], axis=1)[-1])\n",
    "    print('train: ', np.mean(results_100[model]['accuracy_train'], axis=1)[-1], np.std(results_100[model]['accuracy_train'], axis=1)[-1])"
   ]
  },
  {
   "cell_type": "markdown",
   "id": "4d7207ad-ac93-4a26-8819-9d5684cf7ee4",
   "metadata": {},
   "source": [
    "### Table 2"
   ]
  },
  {
   "cell_type": "code",
   "execution_count": null,
   "id": "3bc68a84-e2bb-4924-b556-3e9ec1f6939d",
   "metadata": {
    "tags": []
   },
   "outputs": [],
   "source": [
    "models = [ 'bin_enc',  'no_pen', 'lin_pen', 'nonlin_pen']\n",
    "\n",
    "print('CIFAR10')\n",
    "for model in models:\n",
    "    print(model, ': ', np.around(np.mean(results_10[model]['mahalanobis_score']['auroc']),4), np.around(np.std(results_10[model]['mahalanobis_score']['auroc']),4))\n",
    "\n",
    "print('')\n",
    "print('CIFAR100')      \n",
    "for model in models:\n",
    "    print(model, ': ', np.around(np.mean(results_100[model]['mahalanobis_score']['auroc']),4), np.around(np.std(results_100[model]['mahalanobis_score']['auroc']),4))"
   ]
  },
  {
   "cell_type": "markdown",
   "id": "e45e400f-7171-4d81-9478-67a0aabfcded",
   "metadata": {},
   "source": [
    "### Table 3"
   ]
  },
  {
   "cell_type": "code",
   "execution_count": null,
   "id": "99c9903c-a378-45c5-b669-d0a7a0f3c678",
   "metadata": {
    "tags": []
   },
   "outputs": [],
   "source": [
    "models = [ 'bin_enc',  'no_pen', 'lin_pen', 'nonlin_pen']\n",
    "\n",
    "print('CIFAR10')\n",
    "for model in models:\n",
    "    print(model, ': ', np.around(np.mean(results_10[model]['perturbation_score']),4), np.around(np.std(results_10[model]['perturbation_score']),4))\n",
    "\n",
    "print('')\n",
    "print('CIFAR100')      \n",
    "for model in models:\n",
    "    print(model, ': ', np.around(np.mean(results_100[model]['perturbation_score']),4), np.around(np.std(results_100[model]['perturbation_score']),4))"
   ]
  }
 ],
 "metadata": {
  "kernelspec": {
   "display_name": "Python [conda env:be]",
   "language": "python",
   "name": "conda-env-be-py"
  },
  "language_info": {
   "codemirror_mode": {
    "name": "ipython",
    "version": 3
   },
   "file_extension": ".py",
   "mimetype": "text/x-python",
   "name": "python",
   "nbconvert_exporter": "python",
   "pygments_lexer": "ipython3",
   "version": "3.11.8"
  }
 },
 "nbformat": 4,
 "nbformat_minor": 5
}
